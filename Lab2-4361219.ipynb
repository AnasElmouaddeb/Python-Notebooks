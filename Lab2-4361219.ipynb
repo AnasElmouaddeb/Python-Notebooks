{
 "cells": [
  {
   "cell_type": "code",
   "execution_count": null,
   "id": "a65b31ac",
   "metadata": {},
   "outputs": [],
   "source": [
    "def max_(MyList):\n",
    "    # ToDo\n",
    "    return max(MyList)\n",
    "def sum_(MyList):\n",
    "    # ToDo\n",
    "    return sum(MyList)\n",
    "def remove_second_ele(MyList):\n",
    "    # ToDo\n",
    "   MyList.pop(1)\n",
    "def append_(MyList,x):\n",
    "    # ToDo\n",
    "    MyList.append(x)\n",
    "    \n",
    "def Average_(MyList):\n",
    "    return sum(MyList) / len(MyList)\n",
    "def set_(MyList):\n",
    "    # ToDo\n",
    "    Myset = {MyList.pop(1), MyList.pop(2)}\n",
    "    return  Myset\n",
    "def uniq_(MyList):\n",
    "    # ToDo\n",
    "    MyList=list(set(MyList)) \n",
    "  "
   ]
  },
  {
   "cell_type": "code",
   "execution_count": null,
   "id": "de00ffac",
   "metadata": {},
   "outputs": [],
   "source": [
    "ex_lst = [2,3,4,5,6,4,11,6,2,21,101]\n",
    "print('Original list:',ex_lst)\n",
    "print('largest element in the list:',max_(ex_lst))\n",
    "print('The sum of list elements is:',sum_(ex_lst))\n",
    "remove_second_ele(ex_lst)\n",
    "append_(ex_lst,1000)\n",
    "print('the list elements after removing the second element:',ex_lst)\n",
    "print('The list after adding a new element:',ex_lst)\n",
    "print(f'The average of the list: {Average_(ex_lst):.2f}')\n",
    "print(f'The set with the second and the forth elements of the list: {set_(ex_lst)}')\n",
    "ex_lst = list(set(ex_lst))\n",
    "print(ex_lst)\n"
   ]
  },
  {
   "cell_type": "code",
   "execution_count": null,
   "id": "9fcf757d",
   "metadata": {},
   "outputs": [],
   "source": []
  }
 ],
 "metadata": {
  "kernelspec": {
   "display_name": "Python 3 (ipykernel)",
   "language": "python",
   "name": "python3"
  },
  "language_info": {
   "codemirror_mode": {
    "name": "ipython",
    "version": 3
   },
   "file_extension": ".py",
   "mimetype": "text/x-python",
   "name": "python",
   "nbconvert_exporter": "python",
   "pygments_lexer": "ipython3",
   "version": "3.10.9"
  }
 },
 "nbformat": 4,
 "nbformat_minor": 5
}
